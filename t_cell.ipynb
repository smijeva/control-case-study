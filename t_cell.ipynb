{
 "cells": [
  {
   "cell_type": "code",
   "execution_count": 9,
   "outputs": [],
   "source": [
    "import biodivine_aeon as ba\n",
    "from pathlib import Path"
   ],
   "metadata": {
    "collapsed": false,
    "pycharm": {
     "name": "#%%\n"
    }
   }
  },
  {
   "cell_type": "code",
   "execution_count": 11,
   "outputs": [],
   "source": [
    "boolean_net = ba.BooleanNetwork.from_aeon(Path('t-cell-survival-full.aeon').read_text())\n",
    "per_graph = ba.PerturbationGraph.with_restricted_variables(boolean_net, [\"Stimuli\",\"IL15\",\"PDGF\",\"Stimuli2\",\"CD45\",\"TAX\"])\n",
    "\n",
    "apoptosis = per_graph.fix_variable(\"Apoptosis\", True)\n",
    "proliferation = per_graph.fix_variable(\"Proliferation\", True)"
   ],
   "metadata": {
    "collapsed": false,
    "pycharm": {
     "name": "#%%\n"
    }
   }
  },
  {
   "cell_type": "code",
   "execution_count": 21,
   "outputs": [
    {
     "data": {
      "text/plain": "ColorSet(cardinality=262144)"
     },
     "execution_count": 21,
     "metadata": {},
     "output_type": "execute_result"
    }
   ],
   "source": [
    "per_graph.unit_colors()"
   ],
   "metadata": {
    "collapsed": false,
    "pycharm": {
     "name": "#%%\n"
    }
   }
  },
  {
   "cell_type": "code",
   "execution_count": 16,
   "outputs": [],
   "source": [
    "os_cm = per_graph.one_step_control([False for _i in range(60)], apoptosis)"
   ],
   "metadata": {
    "collapsed": false,
    "pycharm": {
     "name": "#%%\n"
    }
   }
  },
  {
   "cell_type": "code",
   "execution_count": 18,
   "outputs": [
    {
     "data": {
      "text/plain": "Bdd(size=208, cardinality=3308)"
     },
     "execution_count": 18,
     "metadata": {},
     "output_type": "execute_result"
    }
   ],
   "source": [
    "os_cm."
   ],
   "metadata": {
    "collapsed": false,
    "pycharm": {
     "name": "#%%\n"
    }
   }
  },
  {
   "cell_type": "code",
   "execution_count": 7,
   "outputs": [
    {
     "name": "stdout",
     "output_type": "stream",
     "text": [
      "Attractor sets: 3\n",
      "A1: 1.0\n",
      "A2: 4.0\n",
      "A3: 4.0\n"
     ]
    }
   ],
   "source": [
    " # Fix input variables according to [4]\n",
    "model.set_update_function(\"Stimuli\", \"true\")\n",
    "model.set_update_function(\"IL15\", \"true\")\n",
    "model.set_update_function(\"PDGF\", \"true\")\n",
    "model.set_update_function(\"Stimuli2\", \"false\")\n",
    "model.set_update_function(\"CD45\", \"false\")\n",
    "model.set_update_function(\"TAX\", \"false\")\n",
    "\n",
    "graph = SymbolicAsyncGraph(model)\n",
    "attractors = find_attractors(graph)\n",
    "\n",
    "print(\"Attractor sets:\", len(attractors))\n",
    "\n",
    "A1 = attractors[0]\n",
    "A2 = attractors[1]\n",
    "A3 = attractors[2]\n",
    "\n",
    "print(\"A1:\", A1.vertices().cardinality())\n",
    "print(\"A2:\", A2.vertices().cardinality())\n",
    "print(\"A3:\", A3.vertices().cardinality())"
   ],
   "metadata": {
    "collapsed": false,
    "pycharm": {
     "name": "#%%\n"
    }
   }
  },
  {
   "cell_type": "code",
   "execution_count": null,
   "outputs": [],
   "source": [],
   "metadata": {
    "collapsed": false,
    "pycharm": {
     "name": "#%%\n"
    }
   }
  }
 ],
 "metadata": {
  "kernelspec": {
   "display_name": "Python 3",
   "language": "python",
   "name": "python3"
  },
  "language_info": {
   "codemirror_mode": {
    "name": "ipython",
    "version": 2
   },
   "file_extension": ".py",
   "mimetype": "text/x-python",
   "name": "python",
   "nbconvert_exporter": "python",
   "pygments_lexer": "ipython2",
   "version": "2.7.6"
  }
 },
 "nbformat": 4,
 "nbformat_minor": 0
}